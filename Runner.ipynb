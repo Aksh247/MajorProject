{
 "cells": [
  {
   "cell_type": "code",
   "execution_count": 1,
   "metadata": {},
   "outputs": [
    {
     "name": "stdout",
     "output_type": "stream",
     "text": [
      "Dataset shape: (600, 37)\n",
      "Training the SVM model.....\n",
      "Trained and saved the model to project folder successfully.\n"
     ]
    }
   ],
   "source": [
    "%run ModelTrain.py"
   ]
  },
  {
   "cell_type": "code",
   "execution_count": 2,
   "metadata": {},
   "outputs": [
    {
     "name": "stdout",
     "output_type": "stream",
     "text": [
      "Extracting sample arrays for files...\n",
      "DONE!\n",
      "\n",
      "Test Files:\n",
      "/Users/akshat/Desktop/MajorProject/TestFiles/tuyo_narcos.wav\n",
      "\n",
      "Extracting features from sample arrays...\n",
      "DONE!\n",
      "MODEL USED: SVM\n",
      "----------------------------------- Predicted Labels -----------------------------------\n",
      "\n",
      "classical\n",
      "\n",
      "----------------------------------------------------------------------------------------\n"
     ]
    }
   ],
   "source": [
    "%run Genre-Recognition.py"
   ]
  },
  {
   "cell_type": "code",
   "execution_count": null,
   "metadata": {},
   "outputs": [],
   "source": []
  }
 ],
 "metadata": {
  "kernelspec": {
   "display_name": "Python 3",
   "language": "python",
   "name": "python3"
  },
  "language_info": {
   "codemirror_mode": {
    "name": "ipython",
    "version": 3
   },
   "file_extension": ".py",
   "mimetype": "text/x-python",
   "name": "python",
   "nbconvert_exporter": "python",
   "pygments_lexer": "ipython3",
   "version": "3.8.5"
  }
 },
 "nbformat": 4,
 "nbformat_minor": 4
}
